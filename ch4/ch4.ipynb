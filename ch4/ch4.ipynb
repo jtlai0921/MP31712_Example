{
 "cells": [
  {
   "cell_type": "code",
   "execution_count": 4,
   "metadata": {
    "collapsed": false
   },
   "outputs": [
    {
     "data": {
      "text/plain": [
       "62.55371900826442"
      ]
     },
     "execution_count": 4,
     "metadata": {},
     "output_type": "execute_result"
    }
   ],
   "source": [
    "a=pow(((23/11)+38*5)-200,2)\n",
    "a"
   ]
  },
  {
   "cell_type": "code",
   "execution_count": 61,
   "metadata": {
    "collapsed": false
   },
   "outputs": [
    {
     "name": "stdout",
     "output_type": "stream",
     "text": [
      "False\n"
     ]
    }
   ],
   "source": [
    "type(a)==int\n",
    "print (isinstance(pow((((23/11)+(38*5))-200),2),int))"
   ]
  },
  {
   "cell_type": "code",
   "execution_count": 9,
   "metadata": {
    "collapsed": false
   },
   "outputs": [
    {
     "data": {
      "text/plain": [
       "False"
      ]
     },
     "execution_count": 9,
     "metadata": {},
     "output_type": "execute_result"
    }
   ],
   "source": [
    "(23/11+52)*0.7+200>(28/26+51)*0.7+207"
   ]
  },
  {
   "cell_type": "code",
   "execution_count": 19,
   "metadata": {
    "collapsed": false
   },
   "outputs": [
    {
     "name": "stdout",
     "output_type": "stream",
     "text": [
      "52\n",
      "28\n",
      "12.0\n"
     ]
    }
   ],
   "source": [
    "lis1=list(range(28,55,3))\n",
    "print(max(lis1))\n",
    "print(min(lis1))\n",
    "print(abs(min(lis1)-sum(lis1)/len(lis1)))"
   ]
  },
  {
   "cell_type": "code",
   "execution_count": 13,
   "metadata": {
    "collapsed": false
   },
   "outputs": [
    {
     "name": "stdout",
     "output_type": "stream",
     "text": [
      "輸入儲蓄金額(PV): 100\n",
      "輸入年利率(i): 1\n",
      "101.0\n"
     ]
    }
   ],
   "source": [
    "pv=int(input(\"輸入儲蓄金額(PV): \"))\n",
    "i=float(input(\"輸入年利率(i): \"))\n",
    "fv=pv*pow(1+i*0.01,1)\n",
    "print(fv)"
   ]
  },
  {
   "cell_type": "code",
   "execution_count": 20,
   "metadata": {
    "collapsed": false
   },
   "outputs": [
    {
     "name": "stdout",
     "output_type": "stream",
     "text": [
      "輸入a: -13\n",
      "輸入b: 10\n",
      "3\n"
     ]
    }
   ],
   "source": [
    "a=abs(int(input(\"輸入a: \")))\n",
    "b=abs(int(input(\"輸入b: \")))\n",
    "print(a%b)"
   ]
  },
  {
   "cell_type": "code",
   "execution_count": 196,
   "metadata": {
    "collapsed": false
   },
   "outputs": [
    {
     "name": "stdout",
     "output_type": "stream",
     "text": [
      "(0, '1101')\n"
     ]
    }
   ],
   "source": [
    "lis1=['1101','1102','1210']\n",
    "lis1=enumerate(lis1)\n",
    "print(next(lis1))"
   ]
  },
  {
   "cell_type": "code",
   "execution_count": 35,
   "metadata": {
    "collapsed": false
   },
   "outputs": [
    {
     "name": "stdout",
     "output_type": "stream",
     "text": [
      "('1102', '亞泥')\n"
     ]
    }
   ],
   "source": [
    "lis1=['1101','1102','1210']\n",
    "lis2=['台泥','亞泥','大成']\n",
    "s=zip(lis1,lis2)\n",
    "next(s)\n",
    "print(next(s))"
   ]
  },
  {
   "cell_type": "code",
   "execution_count": 205,
   "metadata": {
    "collapsed": false
   },
   "outputs": [
    {
     "name": "stdout",
     "output_type": "stream",
     "text": [
      "[1, 3, 5, 7, 9]\n",
      "2\n",
      "3\n"
     ]
    }
   ],
   "source": [
    "import random\n",
    "lis1=list(range(1,15,2))\n",
    "lis1=lis1[slice(0,5,1)]\n",
    "print(lis1)\n",
    "num=random.randint(1,5)\n",
    "print(num)\n",
    "print(lis1[num-1])"
   ]
  },
  {
   "cell_type": "code",
   "execution_count": 207,
   "metadata": {
    "collapsed": false
   },
   "outputs": [
    {
     "name": "stdout",
     "output_type": "stream",
     "text": [
      "(0, 9)\n",
      "(1, 7)\n",
      "(2, 5)\n"
     ]
    }
   ],
   "source": [
    "lis1=list(range(1,15,2))\n",
    "lis1=lis1[slice(0,5)]\n",
    "lis1=sorted(lis1,reverse=True)\n",
    "lis1=lis1[slice(0,3)]\n",
    "lis1=enumerate(lis1)\n",
    "for i in lis1:\n",
    "    print(i)"
   ]
  },
  {
   "cell_type": "code",
   "execution_count": null,
   "metadata": {
    "collapsed": false
   },
   "outputs": [],
   "source": [
    "231.264\n",
    "232.76\n",
    "\n",
    "226.89\n",
    "226.6477906"
   ]
  },
  {
   "cell_type": "code",
   "execution_count": 1,
   "metadata": {
    "collapsed": false
   },
   "outputs": [
    {
     "name": "stdout",
     "output_type": "stream",
     "text": [
      "{7}\n"
     ]
    }
   ],
   "source": [
    "import random\n",
    "lis1=list(range(1,15,2))\n",
    "s1=lis1[slice(0,5,1)]\n",
    "x=random.randint(0,len(s1)-1)\n",
    "s2={s1[x]}\n",
    "s1=set(s1)\n",
    "print(s1.intersection(s2))"
   ]
  },
  {
   "cell_type": "code",
   "execution_count": 477,
   "metadata": {
    "collapsed": false
   },
   "outputs": [
    {
     "name": "stdout",
     "output_type": "stream",
     "text": [
      "{1, 3, 5, 7, 9}\n",
      "set()\n"
     ]
    }
   ],
   "source": []
  },
  {
   "cell_type": "code",
   "execution_count": 4,
   "metadata": {
    "collapsed": false
   },
   "outputs": [
    {
     "name": "stdout",
     "output_type": "stream",
     "text": [
      "{5}\n"
     ]
    }
   ],
   "source": [
    "import random\n",
    "lis1=list(range(1,15,2))\n",
    "s1=lis1[slice(0,5,1)]\n",
    "x=random.randint(0,len(s1)-1)\n",
    "s2={s1[x]}\n",
    "s1=set(s1)\n",
    "print(s1.intersection(s2))"
   ]
  },
  {
   "cell_type": "code",
   "execution_count": 7,
   "metadata": {
    "collapsed": false
   },
   "outputs": [
    {
     "name": "stdout",
     "output_type": "stream",
     "text": [
      "set()\n"
     ]
    }
   ],
   "source": []
  },
  {
   "cell_type": "code",
   "execution_count": null,
   "metadata": {
    "collapsed": true
   },
   "outputs": [],
   "source": []
  }
 ],
 "metadata": {
  "kernelspec": {
   "display_name": "Python 3",
   "language": "python",
   "name": "python3"
  },
  "language_info": {
   "codemirror_mode": {
    "name": "ipython",
    "version": 3
   },
   "file_extension": ".py",
   "mimetype": "text/x-python",
   "name": "python",
   "nbconvert_exporter": "python",
   "pygments_lexer": "ipython3",
   "version": "3.6.0"
  }
 },
 "nbformat": 4,
 "nbformat_minor": 2
}
