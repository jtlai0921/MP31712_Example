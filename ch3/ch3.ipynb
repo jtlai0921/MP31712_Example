{
 "cells": [
  {
   "cell_type": "code",
   "execution_count": null,
   "metadata": {
    "collapsed": true
   },
   "outputs": [],
   "source": [
    "a=20"
   ]
  },
  {
   "cell_type": "code",
   "execution_count": 101,
   "metadata": {
    "collapsed": false
   },
   "outputs": [
    {
     "data": {
      "text/plain": [
       "'0b10100'"
      ]
     },
     "execution_count": 101,
     "metadata": {},
     "output_type": "execute_result"
    }
   ],
   "source": [
    "a=20\n",
    "a=bin(a)\n",
    "a"
   ]
  },
  {
   "cell_type": "code",
   "execution_count": 97,
   "metadata": {
    "collapsed": false
   },
   "outputs": [
    {
     "data": {
      "text/plain": [
       "'1101 台泥'"
      ]
     },
     "execution_count": 97,
     "metadata": {},
     "output_type": "execute_result"
    }
   ],
   "source": [
    "s1='1101 台泥'\n",
    "s1"
   ]
  },
  {
   "cell_type": "code",
   "execution_count": 98,
   "metadata": {
    "collapsed": false
   },
   "outputs": [
    {
     "name": "stdout",
     "output_type": "stream",
     "text": [
      "3\n",
      "7\n"
     ]
    }
   ],
   "source": [
    "s1='1101 台泥'\n",
    "print(s1.count(\"1\"))\n",
    "print(len(s1))"
   ]
  },
  {
   "cell_type": "code",
   "execution_count": 133,
   "metadata": {
    "collapsed": false
   },
   "outputs": [
    {
     "name": "stdout",
     "output_type": "stream",
     "text": [
      "2\n"
     ]
    }
   ],
   "source": [
    "s1='1101 台泥'\n",
    "lis1=s1.split()\n",
    "print(len(lis1))"
   ]
  },
  {
   "cell_type": "code",
   "execution_count": 107,
   "metadata": {
    "collapsed": false
   },
   "outputs": [
    {
     "name": "stdout",
     "output_type": "stream",
     "text": [
      "[['1101', '台泥'], ['1102', '亞泥']]\n"
     ]
    }
   ],
   "source": [
    "s1='1101 台泥'\n",
    "lis1=s1.split()\n",
    "lis2=[lis1,['1102','亞泥']]"
   ]
  },
  {
   "cell_type": "code",
   "execution_count": 63,
   "metadata": {
    "collapsed": false
   },
   "outputs": [
    {
     "name": "stdout",
     "output_type": "stream",
     "text": [
      "[9, 8, 7, 6, 5, 4, 3, 2, 1, 0]\n",
      "9\n",
      "0\n",
      "45\n"
     ]
    }
   ],
   "source": [
    "lis1=list(range(9,-1,-1))\n",
    "print(sorted(lis1,reverse=True))\n",
    "print(max(lis1))\n",
    "print(min(lis1))\n",
    "print(sum(lis1))"
   ]
  },
  {
   "cell_type": "code",
   "execution_count": 117,
   "metadata": {
    "collapsed": false
   },
   "outputs": [
    {
     "name": "stdout",
     "output_type": "stream",
     "text": [
      "[30, 25, 11, 9, 8, 7, 6, 5, 4, 2, 1]\n"
     ]
    }
   ],
   "source": [
    "lis1=list(range(9,-1,-1))\n",
    "lis1.remove(0)\n",
    "lis1.remove(3)\n",
    "lis2=(25,30,11)\n",
    "lis1.extend(lis2)\n",
    "lis1=sorted(lis1,reverse=True)\n",
    "print(lis1)"
   ]
  },
  {
   "cell_type": "code",
   "execution_count": 86,
   "metadata": {
    "collapsed": false,
    "scrolled": true
   },
   "outputs": [
    {
     "name": "stdout",
     "output_type": "stream",
     "text": [
      "[180, 19, 18, 17, 16, 15, 14, 13, 12, 11, 10, 9, 8, 7, 6, 5]\n",
      "[240, 23, 22, 21, 20, 19, 18, 17, 16, 15, 14, 13, 12, 11, 10, 9]\n",
      "45\n"
     ]
    }
   ],
   "source": [
    "lis1=list(range(5,20,1))\n",
    "lis2=list(range(9,24,1))\n",
    "lis1.append(sum(lis1))\n",
    "lis2.append(sum(lis2))\n",
    "lis1=sorted(lis1,reverse=True)\n",
    "lis2=sorted(lis2,reverse=True)\n",
    "print(lis1)\n",
    "print(lis2)\n",
    "print(lis1.pop()*lis2.pop())"
   ]
  },
  {
   "cell_type": "code",
   "execution_count": 126,
   "metadata": {
    "collapsed": false
   },
   "outputs": [
    {
     "name": "stdout",
     "output_type": "stream",
     "text": [
      "43195\n"
     ]
    }
   ],
   "source": [
    "lis1=list(range(5,20,1))\n",
    "lis2=list(range(9,24,1))\n",
    "lis1.append(sum(lis1))\n",
    "lis2.append(sum(lis2))\n",
    "lis1=sorted(lis1,reverse=True)\n",
    "lis2=sorted(lis2,reverse=True)\n",
    "a=(max(lis1)*max(lis2))-min(lis1)\n",
    "lis2.clear()\n",
    "lis2=a\n",
    "print(lis2)"
   ]
  },
  {
   "cell_type": "code",
   "execution_count": 137,
   "metadata": {
    "collapsed": false
   },
   "outputs": [
    {
     "name": "stdout",
     "output_type": "stream",
     "text": [
      "[43195]\n"
     ]
    }
   ],
   "source": [
    "lis1=list(range(5,20,1))\n",
    "lis2=list(range(9,24,1))\n",
    "lis1.append(sum(lis1))\n",
    "lis2.append(sum(lis2))\n",
    "lis1=sorted(lis1,reverse=True)\n",
    "lis2=sorted(lis2,reverse=True)\n",
    "a=max(lis1)*max(lis2)\n",
    "b=min(lis1)\n",
    "lis2.clear()\n",
    "lis2.append(a-b)\n",
    "print(lis2)\n"
   ]
  },
  {
   "cell_type": "code",
   "execution_count": 168,
   "metadata": {
    "collapsed": false
   },
   "outputs": [
    {
     "name": "stdout",
     "output_type": "stream",
     "text": [
      "Lis2數量:14，最大值:31，最小值:7，lis2平均是否大於lis1:True\n"
     ]
    }
   ],
   "source": [
    "# -*- coding: utf-8 -*-\n",
    "lis1=list(range(7,29,3))\n",
    "lis2=list(range(11,35,4))\n",
    "# -*- coding: utf-8 -*-\n",
    "lis1.pop(int(len(lis1)/2))\n",
    "lis1.append(lis2[3])\n",
    "lis2.extend(lis1)\n",
    "print(\"Lis2數量:%d，最大值:%d，最小值:%d，lis2平均是否大於lis1:%s\" %(len(lis2),max(lis2),min(lis2),(sum(lis2)/len(lis2)>sum(lis1)/len(lis1))))"
   ]
  },
  {
   "cell_type": "code",
   "execution_count": 172,
   "metadata": {
    "collapsed": false
   },
   "outputs": [
    {
     "name": "stdout",
     "output_type": "stream",
     "text": [
      "1.8181818181818181\n"
     ]
    }
   ],
   "source": [
    "# -*- coding: utf-8 -*-\n",
    "lis1=[[1,3,5,7],[2,4,6,8]]\n",
    "lis1[1]=sorted(lis1[1],reverse=True)\n",
    "lis1[0].pop(2)\n",
    "lis2=[sum(lis1[0]),sum(lis1[1])]\n",
    "print(max(lis2)/min(lis2))\n"
   ]
  },
  {
   "cell_type": "code",
   "execution_count": 176,
   "metadata": {
    "collapsed": false
   },
   "outputs": [
    {
     "name": "stdout",
     "output_type": "stream",
     "text": [
      "[43195]\n"
     ]
    }
   ],
   "source": [
    "lis1=list(range(5,20,1))\n",
    "lis2=list(range(9,24,1))\n",
    "lis1.append(sum(lis1))\n",
    "lis2.append(sum(lis2))\n",
    "a=(max(lis1)*max(lis2))-min(lis1)\n",
    "lis2.clear()\n",
    "lis2.append(a)\n",
    "print(lis2)\n"
   ]
  },
  {
   "cell_type": "code",
   "execution_count": 178,
   "metadata": {
    "collapsed": false
   },
   "outputs": [
    {
     "name": "stdout",
     "output_type": "stream",
     "text": [
      "[432]\n"
     ]
    }
   ],
   "source": [
    "lis1=list(range(5,20,1))\n",
    "lis2=list(range(9,24,1))\n",
    "a=max(lis1)*max(lis2)\n",
    "b=min(lis1)\n",
    "lis2.clear()\n",
    "lis2.append(a-b)\n",
    "print(lis2)"
   ]
  },
  {
   "cell_type": "code",
   "execution_count": null,
   "metadata": {
    "collapsed": true
   },
   "outputs": [],
   "source": []
  }
 ],
 "metadata": {
  "kernelspec": {
   "display_name": "Python 3",
   "language": "python",
   "name": "python3"
  },
  "language_info": {
   "codemirror_mode": {
    "name": "ipython",
    "version": 3
   },
   "file_extension": ".py",
   "mimetype": "text/x-python",
   "name": "python",
   "nbconvert_exporter": "python",
   "pygments_lexer": "ipython3",
   "version": "3.6.0"
  }
 },
 "nbformat": 4,
 "nbformat_minor": 2
}
